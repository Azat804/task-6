{
 "cells": [
  {
   "cell_type": "code",
   "execution_count": 32,
   "id": "a00d1ba7",
   "metadata": {},
   "outputs": [],
   "source": [
    "import pandas as pd\n",
    "import numpy as np\n",
    "import matplotlib.pyplot as plt\n",
    "%matplotlib inline\n",
    "import seaborn as sns\n",
    "import string\n",
    "import re\n",
    "import nltk\n",
    "from nltk.corpus import stopwords\n",
    "from nltk.tokenize import word_tokenize\n",
    "import warnings\n",
    "warnings.filterwarnings(\"ignore\")\n",
    "import tqdm\n",
    "from sklearn.feature_extraction.text import TfidfVectorizer\n",
    "from sklearn.linear_model import SGDClassifier, LogisticRegressionCV\n",
    "from sklearn.model_selection import StratifiedKFold, train_test_split, RandomizedSearchCV\n",
    "from sklearn.metrics import classification_report, confusion_matrix, accuracy_score"
   ]
  },
  {
   "cell_type": "code",
   "execution_count": 33,
   "id": "c3353038",
   "metadata": {},
   "outputs": [],
   "source": [
    "Z = pd.read_csv(\"./SMSSpamCollection.csv\", sep=\",\")"
   ]
  },
  {
   "cell_type": "code",
   "execution_count": 34,
   "id": "f3ee8e3d",
   "metadata": {},
   "outputs": [
    {
     "data": {
      "text/html": [
       "<div>\n",
       "<style scoped>\n",
       "    .dataframe tbody tr th:only-of-type {\n",
       "        vertical-align: middle;\n",
       "    }\n",
       "\n",
       "    .dataframe tbody tr th {\n",
       "        vertical-align: top;\n",
       "    }\n",
       "\n",
       "    .dataframe thead th {\n",
       "        text-align: right;\n",
       "    }\n",
       "</style>\n",
       "<table border=\"1\" class=\"dataframe\">\n",
       "  <thead>\n",
       "    <tr style=\"text-align: right;\">\n",
       "      <th></th>\n",
       "      <th>target</th>\n",
       "      <th>text</th>\n",
       "    </tr>\n",
       "  </thead>\n",
       "  <tbody>\n",
       "    <tr>\n",
       "      <th>0</th>\n",
       "      <td>ham</td>\n",
       "      <td>Go until jurong point</td>\n",
       "    </tr>\n",
       "    <tr>\n",
       "      <th>1</th>\n",
       "      <td>ham</td>\n",
       "      <td>Ok lar... Joking wif u oni...</td>\n",
       "    </tr>\n",
       "    <tr>\n",
       "      <th>2</th>\n",
       "      <td>spam</td>\n",
       "      <td>Free entry in 2 a wkly comp to win FA Cup fina...</td>\n",
       "    </tr>\n",
       "    <tr>\n",
       "      <th>3</th>\n",
       "      <td>ham</td>\n",
       "      <td>U dun say so early hor... U c already then say...</td>\n",
       "    </tr>\n",
       "    <tr>\n",
       "      <th>4</th>\n",
       "      <td>ham</td>\n",
       "      <td>Nah I don't think he goes to usf</td>\n",
       "    </tr>\n",
       "  </tbody>\n",
       "</table>\n",
       "</div>"
      ],
      "text/plain": [
       "  target                                               text\n",
       "0    ham                              Go until jurong point\n",
       "1    ham                      Ok lar... Joking wif u oni...\n",
       "2   spam  Free entry in 2 a wkly comp to win FA Cup fina...\n",
       "3    ham  U dun say so early hor... U c already then say...\n",
       "4    ham                   Nah I don't think he goes to usf"
      ]
     },
     "execution_count": 34,
     "metadata": {},
     "output_type": "execute_result"
    }
   ],
   "source": [
    "Z.head(5)"
   ]
  },
  {
   "cell_type": "code",
   "execution_count": 35,
   "id": "94dad9a8",
   "metadata": {},
   "outputs": [
    {
     "name": "stdout",
     "output_type": "stream",
     "text": [
      "[ 1 -1]                                                    text\n",
      "0                                 Go until jurong point\n",
      "1                         Ok lar... Joking wif u oni...\n",
      "2     Free entry in 2 a wkly comp to win FA Cup fina...\n",
      "3     U dun say so early hor... U c already then say...\n",
      "4                      Nah I don't think he goes to usf\n",
      "...                                                 ...\n",
      "5547  This is the 2nd time we have tried 2 contact u...\n",
      "5548               Will ü b going to esplanade fr home?\n",
      "5549                                               Pity\n",
      "5550  The guy did some bitching but I acted like i'd...\n",
      "5551                         Rofl. Its true to its name\n",
      "\n",
      "[5552 rows x 1 columns]\n"
     ]
    }
   ],
   "source": [
    "y=Z['target'].replace({'spam':-1,'ham':1})\n",
    "X=pd.DataFrame(Z['text'])\n",
    "print(y.unique(),X)"
   ]
  },
  {
   "cell_type": "code",
   "execution_count": 38,
   "id": "6e6db905",
   "metadata": {},
   "outputs": [],
   "source": [
    "#nltk.download('punkt')\n",
    "#nltk.download('stopwords')"
   ]
  },
  {
   "cell_type": "code",
   "execution_count": 39,
   "id": "2b42ca29",
   "metadata": {},
   "outputs": [
    {
     "name": "stdout",
     "output_type": "stream",
     "text": [
      "i me my myself we our ours ourselves you you're you've you'll you'd your yours yourself yourselves he him his\n"
     ]
    }
   ],
   "source": [
    "stop = stopwords.words('english')\n",
    "stemmer = nltk.stem.snowball.EnglishStemmer('english')\n",
    "print (' '.join(stopwords.words('english')[:20]))"
   ]
  },
  {
   "cell_type": "code",
   "execution_count": 40,
   "id": "257a32df",
   "metadata": {},
   "outputs": [],
   "source": [
    "# Функция обработки текста \n",
    "def preprocess_text(texts):\n",
    "    stop_words = set(stopwords.words('english'))\n",
    "    regex = re.compile('[^a-z A-Z]')\n",
    "    preprocess_texts = []\n",
    "    for i in  tqdm.tqdm(range(len(texts))):\n",
    "        text = str(texts[i])\n",
    "        text = regex.sub(' ', text).lower()\n",
    "        word_tokens = word_tokenize(text) \n",
    "        filtered_sentence = [w for w in word_tokens if not w in stop_words] \n",
    "        preprocess_texts.append( ' '.join(filtered_sentence))\n",
    "    \n",
    "    return preprocess_texts"
   ]
  },
  {
   "cell_type": "code",
   "execution_count": 41,
   "id": "f1f84bc2",
   "metadata": {},
   "outputs": [],
   "source": [
    "def stemming_texts(texts):\n",
    "    st = nltk.stem.snowball.EnglishStemmer('english')\n",
    "    stem_text = []\n",
    "    for text in tqdm.tqdm(texts):\n",
    "        word_tokens = word_tokenize(text)\n",
    "        stem_text.append(' '.join([st.stem(word) for word in word_tokens]))\n",
    "    return stem_text"
   ]
  },
  {
   "cell_type": "code",
   "execution_count": 42,
   "id": "b9e6c380",
   "metadata": {},
   "outputs": [
    {
     "name": "stderr",
     "output_type": "stream",
     "text": [
      "100%|████████████████████████████████████████████████████████████████████████████| 5552/5552 [00:00<00:00, 9104.26it/s]\n"
     ]
    }
   ],
   "source": [
    "X['text'] = preprocess_text(X['text'])"
   ]
  },
  {
   "cell_type": "code",
   "execution_count": 43,
   "id": "3baad83e",
   "metadata": {},
   "outputs": [
    {
     "name": "stderr",
     "output_type": "stream",
     "text": [
      "100%|████████████████████████████████████████████████████████████████████████████| 5552/5552 [00:00<00:00, 5964.16it/s]\n"
     ]
    }
   ],
   "source": [
    "X['text'] = stemming_texts(X['text'])"
   ]
  },
  {
   "cell_type": "code",
   "execution_count": 44,
   "id": "527db09f",
   "metadata": {},
   "outputs": [
    {
     "data": {
      "text/html": [
       "<div>\n",
       "<style scoped>\n",
       "    .dataframe tbody tr th:only-of-type {\n",
       "        vertical-align: middle;\n",
       "    }\n",
       "\n",
       "    .dataframe tbody tr th {\n",
       "        vertical-align: top;\n",
       "    }\n",
       "\n",
       "    .dataframe thead th {\n",
       "        text-align: right;\n",
       "    }\n",
       "</style>\n",
       "<table border=\"1\" class=\"dataframe\">\n",
       "  <thead>\n",
       "    <tr style=\"text-align: right;\">\n",
       "      <th></th>\n",
       "      <th>text</th>\n",
       "    </tr>\n",
       "  </thead>\n",
       "  <tbody>\n",
       "    <tr>\n",
       "      <th>0</th>\n",
       "      <td>go jurong point</td>\n",
       "    </tr>\n",
       "    <tr>\n",
       "      <th>1</th>\n",
       "      <td>ok lar joke wif u oni</td>\n",
       "    </tr>\n",
       "    <tr>\n",
       "      <th>2</th>\n",
       "      <td>free entri wkli comp win fa cup final tkts st ...</td>\n",
       "    </tr>\n",
       "    <tr>\n",
       "      <th>3</th>\n",
       "      <td>u dun say earli hor u c alreadi say</td>\n",
       "    </tr>\n",
       "    <tr>\n",
       "      <th>4</th>\n",
       "      <td>nah think goe usf</td>\n",
       "    </tr>\n",
       "  </tbody>\n",
       "</table>\n",
       "</div>"
      ],
      "text/plain": [
       "                                                text\n",
       "0                                    go jurong point\n",
       "1                              ok lar joke wif u oni\n",
       "2  free entri wkli comp win fa cup final tkts st ...\n",
       "3                u dun say earli hor u c alreadi say\n",
       "4                                  nah think goe usf"
      ]
     },
     "execution_count": 44,
     "metadata": {},
     "output_type": "execute_result"
    }
   ],
   "source": [
    "X.head()"
   ]
  },
  {
   "cell_type": "code",
   "execution_count": 45,
   "id": "459b3cef",
   "metadata": {},
   "outputs": [],
   "source": [
    "X=X.text"
   ]
  },
  {
   "cell_type": "code",
   "execution_count": 46,
   "id": "ead3fa69",
   "metadata": {},
   "outputs": [],
   "source": [
    "tf_vectorizer = TfidfVectorizer(stop_words=stop, ngram_range=(1, 2), min_df=0.001, norm=None)"
   ]
  },
  {
   "cell_type": "code",
   "execution_count": 47,
   "id": "c64a4117",
   "metadata": {},
   "outputs": [],
   "source": [
    "Xtr, Xval, ytr, yval = train_test_split(X, y, test_size=0.30, random_state=42)"
   ]
  },
  {
   "cell_type": "code",
   "execution_count": 48,
   "id": "7d3cf19f",
   "metadata": {},
   "outputs": [],
   "source": [
    "Xtr_tfidf = tf_vectorizer.fit_transform(Xtr)\n",
    "Xval_tfidf = tf_vectorizer.transform(Xval)"
   ]
  },
  {
   "cell_type": "code",
   "execution_count": 49,
   "id": "f9d0ccc4",
   "metadata": {},
   "outputs": [
    {
     "data": {
      "text/plain": [
       "((3886, 1630), (1666, 1630))"
      ]
     },
     "execution_count": 49,
     "metadata": {},
     "output_type": "execute_result"
    }
   ],
   "source": [
    "Xtr_tfidf.shape, Xval_tfidf.shape"
   ]
  },
  {
   "cell_type": "code",
   "execution_count": 50,
   "id": "711c1f5c",
   "metadata": {},
   "outputs": [],
   "source": [
    "logit_sgd = SGDClassifier(\n",
    "    loss='log', \n",
    "    shuffle=True, \n",
    "    n_iter_no_change=10, \n",
    "    max_iter=500, \n",
    "    penalty='l2', \n",
    "    random_state=42\n",
    ")"
   ]
  },
  {
   "cell_type": "code",
   "execution_count": 51,
   "id": "05abc02d",
   "metadata": {},
   "outputs": [
    {
     "name": "stdout",
     "output_type": "stream",
     "text": [
      "train accuracy= 0.9951106536284097\n",
      "validation accuracy= 0.9711884753901561\n",
      "              precision    recall  f1-score   support\n",
      "\n",
      "          -1       0.87      0.90      0.88       202\n",
      "           1       0.99      0.98      0.98      1464\n",
      "\n",
      "    accuracy                           0.97      1666\n",
      "   macro avg       0.93      0.94      0.93      1666\n",
      "weighted avg       0.97      0.97      0.97      1666\n",
      "\n"
     ]
    }
   ],
   "source": [
    "logit_sgd.fit(Xtr_tfidf, ytr)\n",
    "print(\"train accuracy=\", accuracy_score(logit_sgd.predict(Xtr_tfidf), ytr))\n",
    "print(\"validation accuracy=\",accuracy_score(logit_sgd.predict(Xval_tfidf), yval))\n",
    "print(classification_report(logit_sgd.predict(Xval_tfidf), yval))"
   ]
  },
  {
   "cell_type": "code",
   "execution_count": 52,
   "id": "3ab4f549",
   "metadata": {},
   "outputs": [
    {
     "data": {
      "text/html": [
       "<style>#sk-container-id-2 {color: black;background-color: white;}#sk-container-id-2 pre{padding: 0;}#sk-container-id-2 div.sk-toggleable {background-color: white;}#sk-container-id-2 label.sk-toggleable__label {cursor: pointer;display: block;width: 100%;margin-bottom: 0;padding: 0.3em;box-sizing: border-box;text-align: center;}#sk-container-id-2 label.sk-toggleable__label-arrow:before {content: \"▸\";float: left;margin-right: 0.25em;color: #696969;}#sk-container-id-2 label.sk-toggleable__label-arrow:hover:before {color: black;}#sk-container-id-2 div.sk-estimator:hover label.sk-toggleable__label-arrow:before {color: black;}#sk-container-id-2 div.sk-toggleable__content {max-height: 0;max-width: 0;overflow: hidden;text-align: left;background-color: #f0f8ff;}#sk-container-id-2 div.sk-toggleable__content pre {margin: 0.2em;color: black;border-radius: 0.25em;background-color: #f0f8ff;}#sk-container-id-2 input.sk-toggleable__control:checked~div.sk-toggleable__content {max-height: 200px;max-width: 100%;overflow: auto;}#sk-container-id-2 input.sk-toggleable__control:checked~label.sk-toggleable__label-arrow:before {content: \"▾\";}#sk-container-id-2 div.sk-estimator input.sk-toggleable__control:checked~label.sk-toggleable__label {background-color: #d4ebff;}#sk-container-id-2 div.sk-label input.sk-toggleable__control:checked~label.sk-toggleable__label {background-color: #d4ebff;}#sk-container-id-2 input.sk-hidden--visually {border: 0;clip: rect(1px 1px 1px 1px);clip: rect(1px, 1px, 1px, 1px);height: 1px;margin: -1px;overflow: hidden;padding: 0;position: absolute;width: 1px;}#sk-container-id-2 div.sk-estimator {font-family: monospace;background-color: #f0f8ff;border: 1px dotted black;border-radius: 0.25em;box-sizing: border-box;margin-bottom: 0.5em;}#sk-container-id-2 div.sk-estimator:hover {background-color: #d4ebff;}#sk-container-id-2 div.sk-parallel-item::after {content: \"\";width: 100%;border-bottom: 1px solid gray;flex-grow: 1;}#sk-container-id-2 div.sk-label:hover label.sk-toggleable__label {background-color: #d4ebff;}#sk-container-id-2 div.sk-serial::before {content: \"\";position: absolute;border-left: 1px solid gray;box-sizing: border-box;top: 0;bottom: 0;left: 50%;z-index: 0;}#sk-container-id-2 div.sk-serial {display: flex;flex-direction: column;align-items: center;background-color: white;padding-right: 0.2em;padding-left: 0.2em;position: relative;}#sk-container-id-2 div.sk-item {position: relative;z-index: 1;}#sk-container-id-2 div.sk-parallel {display: flex;align-items: stretch;justify-content: center;background-color: white;position: relative;}#sk-container-id-2 div.sk-item::before, #sk-container-id-2 div.sk-parallel-item::before {content: \"\";position: absolute;border-left: 1px solid gray;box-sizing: border-box;top: 0;bottom: 0;left: 50%;z-index: -1;}#sk-container-id-2 div.sk-parallel-item {display: flex;flex-direction: column;z-index: 1;position: relative;background-color: white;}#sk-container-id-2 div.sk-parallel-item:first-child::after {align-self: flex-end;width: 50%;}#sk-container-id-2 div.sk-parallel-item:last-child::after {align-self: flex-start;width: 50%;}#sk-container-id-2 div.sk-parallel-item:only-child::after {width: 0;}#sk-container-id-2 div.sk-dashed-wrapped {border: 1px dashed gray;margin: 0 0.4em 0.5em 0.4em;box-sizing: border-box;padding-bottom: 0.4em;background-color: white;}#sk-container-id-2 div.sk-label label {font-family: monospace;font-weight: bold;display: inline-block;line-height: 1.2em;}#sk-container-id-2 div.sk-label-container {text-align: center;}#sk-container-id-2 div.sk-container {/* jupyter's `normalize.less` sets `[hidden] { display: none; }` but bootstrap.min.css set `[hidden] { display: none !important; }` so we also need the `!important` here to be able to override the default hidden behavior on the sphinx rendered scikit-learn.org. See: https://github.com/scikit-learn/scikit-learn/issues/21755 */display: inline-block !important;position: relative;}#sk-container-id-2 div.sk-text-repr-fallback {display: none;}</style><div id=\"sk-container-id-2\" class=\"sk-top-container\"><div class=\"sk-text-repr-fallback\"><pre>LogisticRegressionCV(n_jobs=-1)</pre><b>In a Jupyter environment, please rerun this cell to show the HTML representation or trust the notebook. <br />On GitHub, the HTML representation is unable to render, please try loading this page with nbviewer.org.</b></div><div class=\"sk-container\" hidden><div class=\"sk-item\"><div class=\"sk-estimator sk-toggleable\"><input class=\"sk-toggleable__control sk-hidden--visually\" id=\"sk-estimator-id-2\" type=\"checkbox\" checked><label for=\"sk-estimator-id-2\" class=\"sk-toggleable__label sk-toggleable__label-arrow\">LogisticRegressionCV</label><div class=\"sk-toggleable__content\"><pre>LogisticRegressionCV(n_jobs=-1)</pre></div></div></div></div></div>"
      ],
      "text/plain": [
       "LogisticRegressionCV(n_jobs=-1)"
      ]
     },
     "execution_count": 52,
     "metadata": {},
     "output_type": "execute_result"
    }
   ],
   "source": [
    "logit_cv = LogisticRegressionCV(Cs=10, n_jobs=-1)\n",
    "logit_cv.fit(Xtr_tfidf, ytr)"
   ]
  },
  {
   "cell_type": "code",
   "execution_count": 53,
   "id": "f901c9e2",
   "metadata": {},
   "outputs": [
    {
     "name": "stdout",
     "output_type": "stream",
     "text": [
      "train accuracy= 0.9951106536284097\n",
      "validation accuracy= 0.9765906362545018\n",
      "              precision    recall  f1-score   support\n",
      "\n",
      "          -1       0.84      0.97      0.90       183\n",
      "           1       1.00      0.98      0.99      1483\n",
      "\n",
      "    accuracy                           0.98      1666\n",
      "   macro avg       0.92      0.97      0.94      1666\n",
      "weighted avg       0.98      0.98      0.98      1666\n",
      "\n"
     ]
    }
   ],
   "source": [
    "print(\"train accuracy=\", accuracy_score(logit_cv.predict(Xtr_tfidf), ytr))\n",
    "print(\"validation accuracy=\", accuracy_score(logit_cv.predict(Xval_tfidf), yval))\n",
    "print(classification_report(logit_cv.predict(Xval_tfidf), yval))"
   ]
  },
  {
   "cell_type": "code",
   "execution_count": 54,
   "id": "284d4755",
   "metadata": {},
   "outputs": [],
   "source": [
    "def visualize_coefficients(coef, feature_names, title, plot_num, n_top_features=25):\n",
    "    interesting_coefficients = np.argsort(coef)[-n_top_features:]\n",
    "    plt.figure(figsize=(15, 15))\n",
    "    plt.subplot(510+plot_num+1)\n",
    "    colors = [\"lightblue\" for c in coef[interesting_coefficients]]\n",
    "    plt.bar(np.arange(n_top_features), coef[interesting_coefficients], color=colors)\n",
    "    feature_names = np.array(feature_names)\n",
    "    plt.xticks(np.arange(1, 1 + n_top_features), \n",
    "               feature_names[interesting_coefficients], rotation=60, ha=\"right\", fontsize=14);\n",
    "    plt.title(title)"
   ]
  },
  {
   "cell_type": "code",
   "execution_count": 55,
   "id": "ff4f0156",
   "metadata": {},
   "outputs": [
    {
     "data": {
      "text/plain": [
       "array([[ 0.04179115,  0.02580301,  0.05077451, ...,  0.03213771,\n",
       "         0.19430775, -0.03273729]])"
      ]
     },
     "execution_count": 55,
     "metadata": {},
     "output_type": "execute_result"
    }
   ],
   "source": [
    "logit_cv.coef_"
   ]
  },
  {
   "cell_type": "code",
   "execution_count": 56,
   "id": "6e1c85b8",
   "metadata": {},
   "outputs": [
    {
     "data": {
      "text/plain": [
       "<bound method CountVectorizer.get_feature_names_out of TfidfVectorizer(min_df=0.001, ngram_range=(1, 2), norm=None,\n",
       "                stop_words=['i', 'me', 'my', 'myself', 'we', 'our', 'ours',\n",
       "                            'ourselves', 'you', \"you're\", \"you've\", \"you'll\",\n",
       "                            \"you'd\", 'your', 'yours', 'yourself', 'yourselves',\n",
       "                            'he', 'him', 'his', 'himself', 'she', \"she's\",\n",
       "                            'her', 'hers', 'herself', 'it', \"it's\", 'its',\n",
       "                            'itself', ...])>"
      ]
     },
     "execution_count": 56,
     "metadata": {},
     "output_type": "execute_result"
    }
   ],
   "source": [
    "tf_vectorizer.get_feature_names_out"
   ]
  },
  {
   "cell_type": "code",
   "execution_count": 57,
   "id": "e652c022",
   "metadata": {},
   "outputs": [
    {
     "data": {
      "image/png": "[encoded data removed]",
      "text/plain": [
       "<Figure size 1080x1080 with 1 Axes>"
      ]
     },
     "metadata": {
      "needs_background": "light"
     },
     "output_type": "display_data"
    }
   ],
   "source": [
    "visualize_coefficients(logit_cv.coef_[0,:], tf_vectorizer.get_feature_names_out(),title=\"Positive\", plot_num=0, n_top_features=50)"
   ]
  },
  {
   "cell_type": "code",
   "execution_count": 58,
   "id": "76f275b2",
   "metadata": {},
   "outputs": [],
   "source": [
    "def visualize_coefficients_2(coef, feature_names, title, plot_num, n_top_features=50):\n",
    "    interesting_coefficients = np.argsort(coef)[0:n_top_features]\n",
    "    plt.figure(figsize=(15, 15))\n",
    "    plt.subplot(510+plot_num+1)\n",
    "    colors = [\"lightblue\" for c in coef[interesting_coefficients]]\n",
    "    plt.bar(np.arange(n_top_features), coef[interesting_coefficients], color=colors)\n",
    "    feature_names = np.array(feature_names)\n",
    "    plt.xticks(np.arange(1, 1 + n_top_features), \n",
    "               feature_names[interesting_coefficients], rotation=60, ha=\"right\", fontsize=14);\n",
    "    plt.title(title)"
   ]
  },
  {
   "cell_type": "code",
   "execution_count": 59,
   "id": "53c568af",
   "metadata": {},
   "outputs": [
    {
     "data": {
      "image/png": "[encoded data removed]",
      "text/plain": [
       "<Figure size 1080x1080 with 1 Axes>"
      ]
     },
     "metadata": {
      "needs_background": "light"
     },
     "output_type": "display_data"
    }
   ],
   "source": [
    "visualize_coefficients_2(logit_cv.coef_[0,:], tf_vectorizer.get_feature_names_out(),title=\"Negative\", plot_num=1, n_top_features=50)"
   ]
  }
 ],
 "metadata": {
  "kernelspec": {
   "display_name": "Python 3 (ipykernel)",
   "language": "python",
   "name": "python3"
  },
  "language_info": {
   "codemirror_mode": {
    "name": "ipython",
    "version": 3
   },
   "file_extension": ".py",
   "mimetype": "text/x-python",
   "name": "python",
   "nbconvert_exporter": "python",
   "pygments_lexer": "ipython3",
   "version": "3.8.6"
  }
 },
 "nbformat": 4,
 "nbformat_minor": 5
}
